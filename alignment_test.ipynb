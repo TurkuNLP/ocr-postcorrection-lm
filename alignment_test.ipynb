{
 "cells": [
  {
   "cell_type": "code",
   "execution_count": 63,
   "id": "487ba3f9-32f6-4605-983b-4436780a2625",
   "metadata": {},
   "outputs": [],
   "source": [
    "import transformers\n",
    "import torch\n",
    "from transformers import AutoTokenizer\n",
    "import gzip\n",
    "import json\n",
    "from random import randint\n",
    "import unicodedata\n",
    "import re\n",
    "\n",
    "from eval_metrics import calculate_metrics\n",
    "from Bio.Align import PairwiseAligner"
   ]
  },
  {
   "cell_type": "code",
   "execution_count": 49,
   "id": "463e69ac-8b5e-4eb5-b1cd-08e3a0505c82",
   "metadata": {},
   "outputs": [
    {
     "name": "stderr",
     "output_type": "stream",
     "text": [
      "Special tokens have been added in the vocabulary, make sure the associated word embeddings are fine-tuned or trained.\n"
     ]
    }
   ],
   "source": [
    "def align(input_text, output_text):\n",
    "    aligner = PairwiseAligner()\n",
    "    aligner.mode = 'global'\n",
    "    aligner.target_end_gap_score = 0.0\n",
    "    aligner.query_end_gap_score = 0.0\n",
    "    alignments = aligner.align(input_text, output_text)\n",
    "    alignment = alignments[0]\n",
    "    return alignment\n",
    "\n",
    "def read_data(fname, max_examples=None):\n",
    "    examples = []\n",
    "    with gzip.open(fname, \"rt\", encoding=\"utf-8\") as f:\n",
    "        for line in f:\n",
    "            example = json.loads(line)\n",
    "            examples.append(example)\n",
    "            if max_examples and len(examples) >= max_examples:\n",
    "               break\n",
    "    return examples\n",
    "\n",
    "def sliding_window(tokens, window_size, prompt_size=0):\n",
    "    start = randint(prompt_size, max(prompt_size, tokens[\"input_ids\"].size()[1] - window_size))\n",
    "    truncated_tokens = tokens[\"input_ids\"][:,start:start+window_size]\n",
    "    truncated_attention_mask = tokens[\"attention_mask\"][:,start:start+window_size]\n",
    "    return { \"input_ids\" : truncated_tokens.to(device), \"attention_mask\" : truncated_attention_mask.to(device)}\n",
    "\n",
    "\n",
    "examples = read_data(\"/scratch/project_2000539/jenna/ocr-correction/by_page_dev_slim.jsonl.gz\")\n",
    "\n",
    "tokenizer = AutoTokenizer.from_pretrained(\"Qwen/Qwen1.5-7B-Chat\", padding_side=\"left\")\n",
    "tokenizer.pad_token = tokenizer.eos_token\n"
   ]
  },
  {
   "cell_type": "code",
   "execution_count": 66,
   "id": "5088b2bf-2fe6-4b76-a017-94a269305ed0",
   "metadata": {},
   "outputs": [
    {
     "name": "stdout",
     "output_type": "stream",
     "text": [
      "['certainty as to compos-ers in the fifteenth century;-for not only the madrigals that were invented after-the new notation were at that time printed, but many-of the old ones were made to ass--ume this more per-s-ect form, and, therefore, are pres-erved even to this-day. \"; Su7mer is Icumen, ------------------a celebrated madrigal forf--ix voices, the manus-cript of which is now in the-Britis-h Mus-eum, was compos-ed about 1460. SKEL-TON, in the reign of HENRY the s-eventh, wrotes--ongs, which were compos-ed in parts by CORNISI1-,-and many others might be mentioned.---------------FRANCHINUS, who wrote a work which wa~--printed at MILAN, gives s-ome of the firs-t examples-for the improvement of mus-ical notation, but thes-e-characters were cut out in blocks; the Gern-ans,-however, improved upon this practis-e, and that arts--eems to have arrived to s-omething like perfection-about the year 1500, s-o that this improvements--eemed ready for the us-e it was pur- to afterwards in-ENGLAND; but it came to no perfection till about-1560, when a very indul-trious man, of the name of-JOHN DAY, publis-hed the Church Service in four-and three parts. II-is labours were a good deal ac-celerated by STERII-OLD) and HOPKINS; who, in-addition to the novelty of introducing their New-Vers-ion of the Ps-alms, brought forth the Cantiones of\"\\'--ALLIS and BIRD, two names of f-ulI--icic-nt con-Y a--------', '|||||||||||||||||||||--|||||||||||||||||||||||||||||-|||||||||||||||||||||||||||||||||||||||||||||||||||-||||||||||||||||||||||||||||||||||||||||||||||||||||-||||||||||||||||||||||||||||||----||||||||||||||||||--|||||||||||||||||||||||||||||||||--||||||||||||||||||-||||||--||-|||||||||||||||------------------|||||||||||||||||||||||||---|||||||||||||||||||--||||||||||||||||||||||||||||-|||||--||||--||||||||||||||--|||||||||||||||||||||||||||||||||||||||||||||||||||--|||||||||||||---||||||||||||||||||||||--|||||||||||||||||||||---|-|||||||||||||||||||||||||||||||||||---------------|||||||||||||||||||||||||||||||||||||---||||||||||||||||||||||||--||||||||||||||--||||||||||-|||||||||||||||||||||||||--||||||||||||||||||||||--|-||||||||||||||||||||||||||||||||||||||||||--||||-||||||||||||||||||||||||||||||||||--|||||||||||||||---||||||||||||||||||||||||--||||||||||||||||||||||||-|||||||||||||||||||||--|||||||||||||||||||||||---|||||||||||||||||||||--|||||||||||--|||||||||||||||||-||||||||||||||||||||||||||||||||||||||||||||||||-||||||||||||||||||||||--||||||||||||||||||||||||||-|||||||||||||||--||||||||||||||||||||||||||||||-|||||||||||||||||---||||||||||||||||||||||||||||||||||||||||||||||||---|||-|||||||||||||||||||||-||||||||||||||||||||||||||||||||||||||||||||||||-|||--||||||||||||--||||||||||||||||||||||||||||||||||||----|||||||||||||||||||||||||||||--|----|||--|||||||-----------', 'certainty as to compo-ſers in the fifteenth century; for not only the madrigals that were invented after the new notation were at that time printed, but many of the old ones were made to a--ſſume this more per--fect form, and, therefore, are pre-ſerved even to this day. \"--Su-mer is Icumen,                   a celebrated madrigal for- ſix voices, the manu-ſcript of which is now in the Briti-ſh Mu-ſeum, was compo-ſed about 1460. SKEL-TON, in the reign of HENRY the -ſeventh, wrote- ſongs, which were compo-ſed in parts by CORNIS--H, and many others might be mentioned.               FRANCHINUS, who wrote a work which wa-s printed at MILAN, gives -ſome of the fir-ſt examples for the improvement of mu-ſical notation, but the-ſe characters were cut out in blocks; the Ger-mans, however, improved upon this practi-ſe, and that art- ſeems to have arrived to -ſomething like perfection about the year 1500, -ſo that this improvement- ſeemed ready for the u-ſe it was pu-t to afterwards in ENGLAND; but it came to no perfection till about 1560, when a very indu-ſtrious man, of the name of JOHN DAY, publi-ſhed the Church Service in four and three parts. --His labours were a good deal ac-celerated by STER--HOLD- and HOPKINS; who, in addition to the novelty of introducing their New Ver-ſion of the P-ſalms, brought forth the Cantiones of-- TALLIS and BIRD, two names of -ſu--ffici-ent con----ſequence', '']\n"
     ]
    }
   ],
   "source": [
    "input_test, output_test = examples[0][\"input\"], examples[0][\"output\"]\n",
    "\n",
    "a = str(align(input_test.replace(\"\\n\", \"\"), output_test.replace(\"\\n\", \"\")))\n",
    "\n",
    "print(a.split(\"\\n\"))"
   ]
  },
  {
   "cell_type": "code",
   "execution_count": 62,
   "id": "159662e0-3a69-43aa-8f48-fa9656c02dca",
   "metadata": {},
   "outputs": [
    {
     "name": "stdout",
     "output_type": "stream",
     "text": [
      "[<re.Match object; span=(12, 17), match='|||||'>, <re.Match object; span=(19, 24), match='|||||'>]\n",
      "Aligned Text: im john from\n"
     ]
    }
   ],
   "source": [
    "def extract_aligned_text(base_text, alignment_string, query_text):\n",
    "    \n",
    "    matches = list(re.finditer(r'\\|+', alignment_string))\n",
    "    if not matches:\n",
    "        return \"\"  \n",
    "\n",
    "    refined_matches = []\n",
    "    for match in matches:\n",
    "        start, end = match.start(), match.end()\n",
    "        if base_text[start:end] == query_text[start:end]:\n",
    "            refined_matches.append(match)\n",
    "\n",
    "    if not refined_matches:\n",
    "        return \"\"  \n",
    "        \n",
    "    print(refined_matches)\n",
    "    last_match = max(refined_matches, key=lambda m: m.end())\n",
    "    first_match = min(refined_matches, key=lambda m: m.start())\n",
    "    start, end = first_match.start(), last_match.end()\n",
    "\n",
    "    aligned_text = base_text[start:end]\n",
    "    return aligned_text\n",
    "\n",
    "# Example usage\n",
    "base_text = \"hello there im john from\"\n",
    "alignment_string = \"------------|||||--|||||-------\"\n",
    "query_text = \"            im josh from london\"\n",
    "aligned_text = extract_aligned_text(base_text, alignment_string, query_text)\n",
    "print(\"Aligned Text:\", aligned_text)"
   ]
  },
  {
   "cell_type": "code",
   "execution_count": null,
   "id": "a0feee0e-3eba-4733-b41e-d8e047940dc7",
   "metadata": {},
   "outputs": [],
   "source": []
  },
  {
   "cell_type": "code",
   "execution_count": null,
   "id": "d71a76aa-a3c6-4818-bfa4-c68ae7d29c83",
   "metadata": {},
   "outputs": [],
   "source": []
  }
 ],
 "metadata": {
  "kernelspec": {
   "display_name": "Python 3 (ipykernel)",
   "language": "python",
   "name": "python3"
  },
  "language_info": {
   "codemirror_mode": {
    "name": "ipython",
    "version": 3
   },
   "file_extension": ".py",
   "mimetype": "text/x-python",
   "name": "python",
   "nbconvert_exporter": "python",
   "pygments_lexer": "ipython3",
   "version": "3.9.18"
  }
 },
 "nbformat": 4,
 "nbformat_minor": 5
}
