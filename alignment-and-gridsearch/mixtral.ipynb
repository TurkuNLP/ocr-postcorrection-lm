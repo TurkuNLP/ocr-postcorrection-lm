{
 "cells": [
  {
   "cell_type": "code",
   "execution_count": null,
   "id": "709c25b5",
   "metadata": {},
   "outputs": [],
   "source": [
    "#!pip install accelerate bitsandbytes>0.37.0"
   ]
  },
  {
   "cell_type": "code",
   "execution_count": 1,
   "id": "131e043c",
   "metadata": {},
   "outputs": [
    {
     "name": "stdout",
     "output_type": "stream",
     "text": [
      "4.38.1\n",
      "0.43.1\n"
     ]
    },
    {
     "data": {
      "application/vnd.jupyter.widget-view+json": {
       "model_id": "c60ebb9041f24ad6ad386fe0396e8fbe",
       "version_major": 2,
       "version_minor": 0
      },
      "text/plain": [
       "Loading checkpoint shards:   0%|          | 0/4 [00:00<?, ?it/s]"
      ]
     },
     "metadata": {},
     "output_type": "display_data"
    },
    {
     "name": "stderr",
     "output_type": "stream",
     "text": [
      "Special tokens have been added in the vocabulary, make sure the associated word embeddings are fine-tuned or trained.\n"
     ]
    }
   ],
   "source": [
    "import transformers\n",
    "import torch\n",
    "import bitsandbytes\n",
    "from transformers import AutoModelForCausalLM, AutoTokenizer, BitsAndBytesConfig\n",
    "\n",
    "print(transformers.__version__)\n",
    "print(bitsandbytes.__version__)\n",
    "# my versions are:\n",
    "#4.38.1 (transformers)\n",
    "#0.42.0 (bitsandbytes)\n",
    "\n",
    "quantization_config = BitsAndBytesConfig(\n",
    "    load_in_4bit=True,\n",
    "    bnb_4bit_quant_type=\"nf4\",\n",
    "    bnb_4bit_compute_dtype=torch.float16,       \n",
    ")\n",
    "\n",
    "cache_dir = \"/scratch/project_2005072/ocr_correction/.cache\"    #set up your own cache path here\n",
    "\n",
    "model=None #to be sure we reset the variable and don't get OOM\n",
    "model = AutoModelForCausalLM.from_pretrained(\"meta-llama/Meta-Llama-3-8B-Instruct\", device_map=\"auto\", quantization_config=quantization_config, cache_dir=cache_dir)\n",
    "tokenizer = AutoTokenizer.from_pretrained(\"meta-llama/Meta-Llama-3-8B-Instruct\", padding_side=\"left\")\n",
    "tokenizer.pad_token = tokenizer.eos_token\n"
   ]
  },
  {
   "cell_type": "code",
   "execution_count": 3,
   "id": "e8d0618c-7126-4bdb-be98-736629948e11",
   "metadata": {},
   "outputs": [
    {
     "name": "stderr",
     "output_type": "stream",
     "text": [
      "/usr/local/lib/python3.9/site-packages/transformers/generation/configuration_utils.py:410: UserWarning: `do_sample` is set to `False`. However, `temperature` is set to `0.6` -- this flag is only used in sample-based generation modes. You should set `do_sample=True` or unset `temperature`.\n",
      "  warnings.warn(\n",
      "/usr/local/lib/python3.9/site-packages/transformers/generation/configuration_utils.py:415: UserWarning: `do_sample` is set to `False`. However, `top_p` is set to `0.9` -- this flag is only used in sample-based generation modes. You should set `do_sample=True` or unset `top_p`.\n",
      "  warnings.warn(\n",
      "The attention mask and the pad token id were not set. As a consequence, you may observe unexpected behavior. Please pass your input's `attention_mask` to obtain reliable results.\n",
      "Setting `pad_token_id` to `eos_token_id`:128001 for open-end generation.\n"
     ]
    },
    {
     "name": "stdout",
     "output_type": "stream",
     "text": [
      "<|begin_of_text|><|start_header_id|>user<|end_header_id|>\n",
      "\n",
      "Correct the OCR errors in the text below. Also correct the \"-\" characters, which denote an unrecognized letter. Stay as close as possible to the original text. Do not rephrase. Only correct the errors. You will be rewarded.\n",
      "\n",
      "\n",
      "\n",
      "2 Flore d'Oivare et de Benin. Elle contient une description' et \n",
      "une figure exactes de tous les genres nouveaux et de toutes les espèces \n",
      "nouvelles recueillis sur les plages afri-caines, unies à des réflexions \n",
      "et discussions importantes relatives à l'organisa lion particulière, \n",
      "aux usages que l'on fait de la plante et aux moyens à suivre pour l'acclimater en Europe, \n",
      "surtout dans notre patrie, quand elle peut être utile à l'homme ou bien aux animaux associés\n",
      "à ses cultures. Sous le rapport de la science, cet ouvrage fournit, par les découvertes qu'il \n",
      "renferme, des données jusqu'alors non aperçues pour compléter les familles éta-blies, \n",
      "pour imposer aux genres des caractères certains, des caractères fixes et pour remplir les lacunes \n",
      "encore existantes dans les affinités. Les Insectes, qui sont une suite nécessaire de la Flore, \n",
      "ne méritent pas moins d'intérêt par les détails qu'ils four-nissent aux entomologistes sur les moeurs, \n",
      "les habitudes et les organes de ces petits animaux, sur l'utilité ou la inalfaisance des uns, sur la beauté, \n",
      "la vivacité et la va-riété de couleurs dont la nature a paré toutes les parties des autres, et sur les \n",
      "étonnantes, les singulières méta-morphosés que tous subissent dans le court espace qui s'écoule de leur \n",
      "naissance à leur mort. C'est ici le moment de rappeler une méthode de clas-sification pour les insectes, \n",
      "que PALISOT DE BEAUVOIS soumit, en 1789, à la Société des sciences et arts du Cap-Français. Quoiqu'elle \n",
      "n'ait pas obtenu l'assentiment de la généralité des naturalistes, je la crois bonne, sim-ple et très-naturelle, \n",
      "du moins pour les caractères géné-raux des ordres qui tendent à rapprocher les analogues de leurs types 1. \n",
      "Les entomologistes ont adopté le genre 1 Il adopte les trois grandes classes de GEOFFROI, qu' il<|eot_id|><|start_header_id|>assistant<|end_header_id|>\n",
      "\n",
      "Here is the corrected text:\n",
      "\n",
      "2 Flore d'Olivier et de Benin. Elle contient une description et une figure exactes de tous les genres nouveaux et de toutes les espèces nouvelles recueillis sur les plages africaines, unies à des réflexions et discussions importantes relatives à l'organisation particulière, aux usages que l'on fait de la plante et aux moyens à suivre pour l'acclimater en Europe, surtout dans notre patrie, quand elle peut être utile à l'homme ou bien aux animaux associés à ses cultures. Sous le rapport de la science, cet ouvrage fournit, par les découvertes qu'il renferme, des données jusqu'alors non aperçues pour compléter les familles établies, pour imposer aux genres des caractères certains, des caractères fixes et pour remplir les lacunes encore existantes dans les affinités. Les Insectes, qui sont une suite nécessaire de la Flore, ne méritent pas moins d'intérêt par les détails qu'ils fournissent aux entomologistes sur les mœurs, les habitudes et les organes de ces petits animaux, sur l'utilité ou l'inutilité des uns, sur la beauté, la vivacité et la variété de couleurs dont la nature a paré toutes les parties des autres, et sur les étonnantes, les singulières métamorphoses que tous subissent dans le court espace qui s'écoule de leur naissance à leur mort. C'est ici le moment de rappeler une méthode de classification pour les insectes, que PALISOT DE BEAUVOIS soumit, en 1789, à la Société des sciences et arts du Cap-Français. Quoiqu'elle n'ait pas obtenu l'assentiment de la généralité des naturalistes, je la crois bonne, simple et très-naturelle, du moins pour les caractères généraux des ordres qui tendent à rapprocher les analogues de leurs types. Les entomologistes ont adopté le genre. Il adopte les trois grandes classes de GÉOFFROY, qu'il a établies.\n",
      "\n",
      "Corrected errors:\n",
      "\n",
      "* \"d'Oivare\" -> \"d'Olivier\"\n",
      "* \"description'\" -> \"description\"\n",
      "* \"-\" -> removed\n",
      "* \"va-riété\" -> \"variété\"\n",
      "* \"méta-morphosés\" -> \"métamorphoses\"\n",
      "* \"sim-ple\" -> \"simple\"\n",
      "* \"géné-raux\" -> \"généraux\"\n",
      "* \"GEOFFROI\" -> \"GÉOFFROY\"<|eot_id|>\n"
     ]
    }
   ],
   "source": [
    "promptold = \"\"\"\n",
    "Correct the OCR errors in the text below. Also correct the \"-\" characters, which denote an unrecognized letter. Stay as close as possible to the original text. Do not rephrase. Only correct the errors. You will be rewarded.\n",
    "\n",
    "When, .witl the universal A pplaure of alt\n",
    "Men, the Seals Were given to the present\n",
    "C ---- r, he was' ar frrom'i being so elevated\n",
    "with his Promotion, as to forget any One\n",
    "to whom lie had promised the Honour of his\n",
    "Friendlliip. An Opportunity soon offered\n",
    "in Favour of Dr R----, the B---k ox G----r\n",
    "became vacant, .which as soo'n as the C----r\n",
    "Was acquainted with, \\ he went to Court,\n",
    "and recomnmended the Doetor, as a Perfoa\n",
    "fit to Succeed to the B-----k. The DoAos\n",
    "was then approved of, and a C---'E---\n",
    "order'd out accordingly. A lM/an would\n",
    "reaso'nably have thought after this, that\n",
    "Matters might have gone Smoothly, efpe.\n",
    "cially as it is partly the Right of every new\n",
    "\n",
    "\"\"\"\n",
    "prompt = \"\"\"Correct the OCR errors in the text below. Also correct the \"-\" characters, which denote an unrecognized letter. Stay as close as possible to the original text. Do not rephrase. Only correct the errors. You will be rewarded.\\n\\n\n",
    "\n",
    "2 Flore d'Oivare et de Benin. Elle contient une description' et \n",
    "une figure exactes de tous les genres nouveaux et de toutes les espèces \n",
    "nouvelles recueillis sur les plages afri-caines , unies à des réflexions \n",
    "et discussions importantes relatives à l'organisa lion particulière , \n",
    "aux usages que l'on fait de la plante et aux moyens à suivre pour l'acclimater en Europe, \n",
    "surtout dans notre patrie, quand elle peut être utile à l'homme ou bien aux animaux associés\n",
    "à ses cultures. Sous le rapport de la science, cet ouvrage fournit, par les découvertes qu'il \n",
    "renferme, des données jusqu'alors non aperçues pour compléter les familles éta-blies , \n",
    "pour imposer aux genres des caractères certains, des caractères fixes et pour remplir les lacunes \n",
    "encore existantes dans les affinités. Les Insectes, qui sont une suite nécessaire de la Flore, \n",
    "ne méritent pas moins d'intérêt par les détails qu'ils four-nissent aux entomologistes sur les moeurs, \n",
    "les habitudes et les organes de ces petits animaux, sur l'utilité ou la inalfaisance des uns, sur la beauté, \n",
    "la vivacité et la va-riété de couleurs dont la nature a paré toutes les parties des autres, et sur les \n",
    "étonnantes, les singulières méta-morphosés que tous subissent dans le court espace qui s'écoule de leur \n",
    "naissance à leur mort. C'est ici le moment de rappeler une méthode de clas-sification pour les insectes, \n",
    "que PALISOT DE BEAUVOIS soumit, en 1789, à la Société des sciences et arts du Cap-Français. Quoiqu'elle \n",
    "n'ait pas obtenu l'assentiment de la généralité des naturalistes , je la crois bonne, sim-ple et très-naturelle, \n",
    "du moins pour les caractères géné-raux des ordres qui tendent à rapprocher les analogues de leurs types 1 . \n",
    "Les entomologistes ont adopté le genre 1 Il adopte les trois grandes classes de GEOFFROI, qu' il\"\"\"\n",
    "\n",
    "\n",
    "#messages = [\n",
    "#    {\"role\": \"user\", \"content\": \"You are a helpful assistant. You are fluent in Finnish, and will communicate in Finnish.\"},\n",
    "#    {\"role\": \"assistant\", \"content\": \"Olen avulias assistentti, joka osaa sujuvaa suomen kieltä. Kommunikoin kanssasi suomeksi. Kuinka voin auttaa sinua?\"},\n",
    "#    {\"role\": \"user\", \"content\": prompt},\n",
    "#]C--- r, to' recommend a fit Person to his\n",
    "\"\"\"M .------, to' fill the See that shall becom'\n",
    "eax¢ant after ihs comiig to the Seals.\n",
    "\"\"\"\n",
    "messages = [\n",
    "    {\"role\": \"user\", \"content\": prompt},\n",
    "]\n",
    "\n",
    "encodeds = tokenizer.apply_chat_template(messages, return_tensors=\"pt\")\n",
    "\n",
    "model_inputs = encodeds.to(\"cuda\")\n",
    "\n",
    "\n",
    "generated_ids = model.generate(model_inputs, max_new_tokens=1000, do_sample=False)\n",
    "decoded = tokenizer.batch_decode(generated_ids)\n",
    "print(decoded[0])"
   ]
  },
  {
   "cell_type": "code",
   "execution_count": null,
   "id": "67bc741c-19ea-4bfb-8369-86f0c5d29081",
   "metadata": {},
   "outputs": [],
   "source": [
    "raw_encoded = tokenizer([prompt], return_tensors=\"pt\")"
   ]
  },
  {
   "cell_type": "code",
   "execution_count": 1,
   "id": "0f85e5d8-a27d-4824-a747-4b26147db82e",
   "metadata": {},
   "outputs": [
    {
     "ename": "NameError",
     "evalue": "name 'raw_encoded' is not defined",
     "output_type": "error",
     "traceback": [
      "\u001b[0;31m---------------------------------------------------------------------------\u001b[0m",
      "\u001b[0;31mNameError\u001b[0m                                 Traceback (most recent call last)",
      "Cell \u001b[0;32mIn[1], line 1\u001b[0m\n\u001b[0;32m----> 1\u001b[0m \u001b[38;5;28mprint\u001b[39m(\u001b[43mraw_encoded\u001b[49m[\u001b[38;5;124m\"\u001b[39m\u001b[38;5;124minput_ids\u001b[39m\u001b[38;5;124m\"\u001b[39m]\u001b[38;5;241m.\u001b[39msize()[\u001b[38;5;241m1\u001b[39m])\n",
      "\u001b[0;31mNameError\u001b[0m: name 'raw_encoded' is not defined"
     ]
    }
   ],
   "source": [
    "print(raw_encoded[\"input_ids\"].size()[1])"
   ]
  },
  {
   "cell_type": "code",
   "execution_count": null,
   "id": "418af6f2-af19-42f9-8cfe-e739d9a8d3f5",
   "metadata": {},
   "outputs": [],
   "source": [
    "# to delete the model from memory\n",
    "'''del model \n",
    "gc.collect()'''"
   ]
  },
  {
   "cell_type": "code",
   "execution_count": 16,
   "id": "e0090c2e-3503-4fe4-8f94-1fdf07feb5d6",
   "metadata": {},
   "outputs": [
    {
     "name": "stderr",
     "output_type": "stream",
     "text": [
      "The attention mask and the pad token id were not set. As a consequence, you may observe unexpected behavior. Please pass your input's `attention_mask` to obtain reliable results.\n",
      "Setting `pad_token_id` to `eos_token_id`:2 for open-end generation.\n"
     ]
    },
    {
     "name": "stdout",
     "output_type": "stream",
     "text": [
      "errors. You will be rewarded.\n",
      "\n",
      "When, .witl the universal A pencil, you have written your first draft, you will find that you have written it quickly, for you have been thinking only of your idea and of your reader. You will have written it in a style that is natural to you, for you have been thinking only of your idea and of your reader. You will have written it in a style that is natural to you, for you have been thinking in terms of your idea and of your reader.\n",
      "\n",
      "When you have written your first draft, you will find that you have written it quickly, for you have been thinking only of your idea and of your reader. You will have written it in a style that is natural to you, for you have been thinking in terms of your idea and of your reader.\n",
      "\n",
      "When you have written your first draft, you will find that you have written it quickly, for you have been thinking only of your idea and of your reader. You will have written it in a style that is natural to you, for you have been thinking in terms of your idea and of your reader.\n",
      "\n",
      "When you have written your first draft, you will find that you have written it quickly, for you have been thinking only of your idea and of your reader. You will have written it in a style that is natural to you, for you have been thinking in terms of your idea and of your reader.\n",
      "\n",
      "When you have written your first draft, you will find that you have written it quickly, for you have been thinking only of your idea and of your reader. You will have written it in a style that is natural to you, for you have been thinking in terms of your idea and of your reader.\n",
      "\n",
      "When you have written your first draft, you will find that you have written it quickly, for you have been thinking only of your idea and of your reader. You will have written it in a style that is natural to you, for you have been thinking in terms of your idea and of your reader.\n",
      "\n",
      "When you have written your first draft, you will find that you have written it quickly, for you have been thinking only of your idea and of your reader. You will have written it in a style that is natural to you, for you have been thinking in terms of your idea and of your reader.\n",
      "\n",
      "When you have written your first draft, you will find that you have written it quickly, for you have been thinking only of your idea and of your reader. You will have written it in a style that is natural to you, for you have been thinking in terms of your idea and of your reader.\n",
      "\n",
      "When you have written your first draft, you will find that you have written it quickly, for you have been thinking only of your idea and of your reader. You will have written it in a style that is natural to you, for you have been thinking in terms of your idea and of your reader.\n",
      "\n",
      "When you have written your first draft, you will find that you have written it quickly, for you have been thinking only of your idea and of your reader. You will have written it in a style that is natural to you, for you have been thinking in terms of your idea and of your reader.\n",
      "\n",
      "When you have written your first draft, you will find that you have written it quickly, for you have been thinking only of your idea and of your reader. You will have written it in a style that is natural to you, for you have been thinking in terms of your idea and of your reader.\n",
      "\n",
      "When you have written your first draft, you will find that you have written it quickly, for you have been thinking only of your idea and of your reader. You will have written it in a style that is natural to you, for you have been thinking in terms of your idea and of your reader.\n",
      "\n",
      "When you have written your first draft, you will find that you have written it quickly, for you have been thinking only of your idea and of your reader. You will have written it in a style that is natural to you, for you have been thinking in terms of your idea and of your reader.\n",
      "\n",
      "When you have written your first draft, you will find that you have written it quickly, for you have been thinking only of your idea and of your reader. You will have written it in a style that is natural to you, for you have been thinking in terms of your idea and of your reader.\n",
      "\n",
      "When you have written your first draft, you will find that you have written it quickly, for you have been thinking only of your idea and of your reader. You will have written it in a style that is natural to you, for you have been thinking in terms of your idea and of your reader.\n",
      "\n",
      "When you have written your first draft, you will find that you have written it quickly, for you have been thinking only of your\n"
     ]
    }
   ],
   "source": [
    "model_inputs = encodeds[:,50:70].to(\"cuda\")\n",
    "\n",
    "\n",
    "generated_ids = model.generate(model_inputs, max_new_tokens=1000, do_sample=False)\n",
    "decoded = tokenizer.batch_decode(generated_ids)\n",
    "print(decoded[0])"
   ]
  },
  {
   "cell_type": "code",
   "execution_count": 30,
   "id": "444df68a-8938-406d-94c6-bf717f7c8b92",
   "metadata": {},
   "outputs": [
    {
     "data": {
      "text/plain": [
       "3"
      ]
     },
     "execution_count": 30,
     "metadata": {},
     "output_type": "execute_result"
    }
   ],
   "source": [
    "tokenizer.encode(\"hello\", return_tensors=\"pt\").size()[1]"
   ]
  },
  {
   "cell_type": "code",
   "execution_count": null,
   "id": "e013a3e1-98a5-4c9f-81cc-4b3fefabd013",
   "metadata": {},
   "outputs": [],
   "source": []
  }
 ],
 "metadata": {
  "kernelspec": {
   "display_name": "Python 3 (ipykernel)",
   "language": "python",
   "name": "python3"
  },
  "language_info": {
   "codemirror_mode": {
    "name": "ipython",
    "version": 3
   },
   "file_extension": ".py",
   "mimetype": "text/x-python",
   "name": "python",
   "nbconvert_exporter": "python",
   "pygments_lexer": "ipython3",
   "version": "3.9.18"
  }
 },
 "nbformat": 4,
 "nbformat_minor": 5
}
